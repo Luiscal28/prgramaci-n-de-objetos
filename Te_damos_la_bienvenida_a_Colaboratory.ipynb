{
  "cells": [
    {
      "cell_type": "markdown",
      "metadata": {
        "id": "view-in-github",
        "colab_type": "text"
      },
      "source": [
        "<a href=\"https://colab.research.google.com/github/Luiscal28/prgramaci-n-de-objetos/blob/main/Te_damos_la_bienvenida_a_Colaboratory.ipynb\" target=\"_parent\"><img src=\"https://colab.research.google.com/assets/colab-badge.svg\" alt=\"Open In Colab\"/></a>"
      ]
    },
    {
      "cell_type": "code",
      "source": [
        "import random\n",
        "\n",
        "class Player:\n",
        "  def __init__(self, name):\n",
        "    self.name = name\n",
        "    self.points = 0\n",
        "  def add_points(self):\n",
        "    self.points += 1\n",
        "\n",
        "def main():\n",
        "  print(\"Bienvenido al juego de Cara o Sello\")\n",
        "  player_1_name = input(\"Ingese el nombre del primer jugador: \")\n",
        "  player_2_name = input(\"Ingese el nombre del segundo jugador: \")\n",
        "  player_1 = Player(player_1_name)\n",
        "  player_2 = Player(player_2_name)\n",
        "\n",
        "  print(f\"{player_1.name} vs {player_2.name}\")\n",
        "  round = 1\n",
        "  while True:\n",
        "    current_player = random.randint(1, 2)\n",
        "    print(\"1. Cara\\n2. Sello\")\n",
        "    if current_player == 1:\n",
        "      player_1_choice = int(input(f\"{player_1.name}, ¿cara o sello?: \"))\n",
        "      if player_1_choice == 1:\n",
        "        player_2_choice = 2\n",
        "      else:\n",
        "        player_2_choice = 1\n",
        "    else:\n",
        "      player_2_choice = int(input(f\"{player_2.name}, ¿cara o sello?: \"))\n",
        "      if player_2_choice == 1:\n",
        "        player_1_choice = 2\n",
        "      else:\n",
        "        player_1_choice = 1\n",
        "\n",
        "    coin = random.randint(1, 2)\n",
        "    if coin == 1:\n",
        "      print(\"¡Cara!\")\n",
        "    else:\n",
        "      print(\"¡Sello!\")\n",
        "\n",
        "    if player_1_choice == coin:\n",
        "      player_1.add_points()\n",
        "    if player_2_choice == coin:\n",
        "      player_2.add_points()\n",
        "\n",
        "    print(f\"Puntos:\\n{player_1.name} --> {player_1.points}\\n{player_2.name} --> {player_2.points}\")\n",
        "    flag = input(\"Desea seguir jugando? (s/n): \")\n",
        "\n",
        "    if flag == 'n':\n",
        "      break\n",
        "\n",
        "if __name__ == '__main__':\n",
        "  main()"
      ],
      "metadata": {
        "id": "MgzNYDhT-QPc"
      },
      "execution_count": null,
      "outputs": []
    },
    {
      "cell_type": "code",
      "source": [],
      "metadata": {
        "id": "91idcURmFVGF"
      },
      "execution_count": null,
      "outputs": []
    }
  ],
  "metadata": {
    "colab": {
      "name": "Te damos la bienvenida a Colaboratory",
      "toc_visible": true,
      "provenance": [],
      "include_colab_link": true
    },
    "kernelspec": {
      "display_name": "Python 3",
      "name": "python3"
    }
  },
  "nbformat": 4,
  "nbformat_minor": 0
}